{
 "cells": [
  {
   "cell_type": "code",
   "execution_count": 4,
   "id": "4ad3954a-b1e3-4bbc-b8d8-7d159bff31a1",
   "metadata": {},
   "outputs": [],
   "source": [
    "import cv2\n",
    "import numpy as np\n",
    "\n",
    "# Load the image\n",
    "image = cv2.imread('lib3.png', 0)  # Load as grayscale\n",
    "\n",
    "# Preprocess the image (thresholding for binary separation)\n",
    "_, binary_image = cv2.threshold(image, 240, 255, cv2.THRESH_BINARY)\n",
    "\n",
    "# Find contours to extract polygonal representations of obstacles\n",
    "contours, _ = cv2.findContours(binary_image, cv2.RETR_EXTERNAL, cv2.CHAIN_APPROX_SIMPLE)\n",
    "\n",
    "# Now, 'contours' contains a list of polygonal obstacle representations\n",
    "# You can process these contours to generate a navigation mesh\n",
    "\n",
    "# Perform triangulation, graph creation, and navigation mesh generation as mentioned in the previous response\n"
   ]
  },
  {
   "cell_type": "code",
   "execution_count": 14,
   "id": "df5c1cd3-7482-4a93-b030-614a6b67a1e1",
   "metadata": {},
   "outputs": [
    {
     "name": "stdout",
     "output_type": "stream",
     "text": [
      "done\n"
     ]
    }
   ],
   "source": [
    "import cv2\n",
    "import numpy as np\n",
    "\n",
    "# Load the image\n",
    "image = cv2.imread('lib3.png', 0)  # Load as grayscale\n",
    "\n",
    "# Preprocess the image (thresholding for binary separation)\n",
    "_, binary_image = cv2.threshold(image, 10, 255, cv2.THRESH_BINARY)\n",
    "\n",
    "# Find contours to extract polygonal representations of obstacles\n",
    "contours, _ = cv2.findContours(binary_image, cv2.RETR_EXTERNAL, cv2.CHAIN_APPROX_SIMPLE)\n",
    "\n",
    "# Create an empty image to draw contours on\n",
    "contour_image = np.zeros_like(image)\n",
    "\n",
    "# Draw the contours on the empty image\n",
    "cv2.drawContours(contour_image, contours, -1, (255,255,255), 1)  # -1 draws all contours\n",
    "\n",
    "# Display the image with contours\n",
    "cv2.imwrite('Contours.png', contour_image)\n",
    "cv2.waitKey(0)\n",
    "cv2.destroyAllWindows()\n",
    "\n",
    "print(\"done\")"
   ]
  },
  {
   "cell_type": "code",
   "execution_count": 2,
   "id": "5096600b-540e-49ec-8f67-b827fee1b5cf",
   "metadata": {},
   "outputs": [
    {
     "ename": "ValueError",
     "evalue": "Buffer has wrong number of dimensions (expected 2, got 3)",
     "output_type": "error",
     "traceback": [
      "\u001b[1;31m---------------------------------------------------------------------------\u001b[0m",
      "\u001b[1;31mValueError\u001b[0m                                Traceback (most recent call last)",
      "Cell \u001b[1;32mIn[2], line 9\u001b[0m\n\u001b[0;32m      6\u001b[0m     vertices\u001b[38;5;241m.\u001b[39mextend(contour)\n\u001b[0;32m      8\u001b[0m \u001b[38;5;66;03m# Perform Delaunay triangulation\u001b[39;00m\n\u001b[1;32m----> 9\u001b[0m mesh \u001b[38;5;241m=\u001b[39m \u001b[43mtriangle\u001b[49m\u001b[38;5;241;43m.\u001b[39;49m\u001b[43mtriangulate\u001b[49m\u001b[43m(\u001b[49m\u001b[43m{\u001b[49m\u001b[38;5;124;43m'\u001b[39;49m\u001b[38;5;124;43mvertices\u001b[39;49m\u001b[38;5;124;43m'\u001b[39;49m\u001b[43m:\u001b[49m\u001b[43m \u001b[49m\u001b[43mvertices\u001b[49m\u001b[43m}\u001b[49m\u001b[43m)\u001b[49m\n\u001b[0;32m     11\u001b[0m \u001b[38;5;66;03m# 'mesh' now contains the triangulated mesh\u001b[39;00m\n",
      "File \u001b[1;32mY:\\Anaconda3\\envs\\ML\\Lib\\site-packages\\triangle\\tri.py:73\u001b[0m, in \u001b[0;36mtriangulate\u001b[1;34m(tri, opts)\u001b[0m\n\u001b[0;32m     70\u001b[0m opts \u001b[38;5;241m=\u001b[39m \u001b[38;5;124m'\u001b[39m\u001b[38;5;124mQz\u001b[39m\u001b[38;5;124m{\u001b[39m\u001b[38;5;132;01m%s\u001b[39;00m\u001b[38;5;124m}\u001b[39m\u001b[38;5;124m'\u001b[39m \u001b[38;5;241m%\u001b[39m opts\n\u001b[0;32m     72\u001b[0m tri \u001b[38;5;241m=\u001b[39m {translate_inv[_]: tri[_] \u001b[38;5;28;01mfor\u001b[39;00m _ \u001b[38;5;129;01min\u001b[39;00m tri}\n\u001b[1;32m---> 73\u001b[0m tri, _ \u001b[38;5;241m=\u001b[39m \u001b[43mtriang\u001b[49m\u001b[43m(\u001b[49m\u001b[43mtri\u001b[49m\u001b[43m,\u001b[49m\u001b[43m \u001b[49m\u001b[43mopts\u001b[49m\u001b[43m)\u001b[49m\n\u001b[0;32m     74\u001b[0m tri \u001b[38;5;241m=\u001b[39m {translate_frw[_]: tri[_] \u001b[38;5;28;01mfor\u001b[39;00m _ \u001b[38;5;129;01min\u001b[39;00m tri}\n\u001b[0;32m     76\u001b[0m \u001b[38;5;28;01mreturn\u001b[39;00m tri\n",
      "File \u001b[1;32mtriangle/core.pyx:249\u001b[0m, in \u001b[0;36mtriangle.core.triang\u001b[1;34m()\u001b[0m\n",
      "File \u001b[1;32mtriangle/core.pyx:221\u001b[0m, in \u001b[0;36mtriangle.core.fin\u001b[1;34m()\u001b[0m\n",
      "File \u001b[1;32mtriangle/core.pyx:93\u001b[0m, in \u001b[0;36mtriangle.core.dd._set\u001b[1;34m()\u001b[0m\n",
      "\u001b[1;31mValueError\u001b[0m: Buffer has wrong number of dimensions (expected 2, got 3)"
     ]
    }
   ],
   "source": [
    "import triangle\n",
    "\n",
    "# Extract vertices from contours\n",
    "vertices = []\n",
    "for contour in contours:\n",
    "    vertices.extend(contour)\n",
    "\n",
    "# Perform Delaunay triangulation\n",
    "mesh = triangle.triangulate({'vertices': vertices})\n",
    "\n",
    "# 'mesh' now contains the triangulated mesh\n"
   ]
  },
  {
   "cell_type": "code",
   "execution_count": null,
   "id": "c065c34c-de3d-49b7-9b05-3ad53b8ff42d",
   "metadata": {},
   "outputs": [],
   "source": []
  },
  {
   "cell_type": "code",
   "execution_count": 3,
   "id": "a26f050e-f25c-4546-b338-cd9868ab8212",
   "metadata": {},
   "outputs": [
    {
     "ename": "SyntaxError",
     "evalue": "closing parenthesis ')' does not match opening parenthesis '[' (1738235247.py, line 15)",
     "output_type": "error",
     "traceback": [
      "\u001b[1;36m  Cell \u001b[1;32mIn[3], line 15\u001b[1;36m\u001b[0m\n\u001b[1;33m    node2 = tuple(mesh['vertices'][triangle[j])\u001b[0m\n\u001b[1;37m                                              ^\u001b[0m\n\u001b[1;31mSyntaxError\u001b[0m\u001b[1;31m:\u001b[0m closing parenthesis ')' does not match opening parenthesis '['\n"
     ]
    }
   ],
   "source": [
    "import networkx as nx\n",
    "\n",
    "# Create an empty graph\n",
    "navigation_graph = nx.Graph()\n",
    "\n",
    "# Add nodes to the graph using vertices\n",
    "for vertex in mesh['vertices']:\n",
    "    navigation_graph.add_node(tuple(vertex))\n",
    "\n",
    "# Add edges to the graph using triangles\n",
    "for triangle in mesh['triangles']:\n",
    "    for i in range(3):\n",
    "        for j in range(i + 1, 3):\n",
    "            node1 = tuple(mesh['vertices'][triangle[i]])\n",
    "            node2 = tuple(mesh['vertices'][triangle[j])\n",
    "            navigation_graph.add_edge(node1, node2)\n",
    "\n",
    "# 'navigation_graph' now represents the navigation graph\n"
   ]
  },
  {
   "cell_type": "code",
   "execution_count": null,
   "id": "2e97b4b2-ec70-45d7-84d4-77c75a3720c4",
   "metadata": {},
   "outputs": [],
   "source": []
  }
 ],
 "metadata": {
  "kernelspec": {
   "display_name": "Python 3 (ipykernel)",
   "language": "python",
   "name": "python3"
  },
  "language_info": {
   "codemirror_mode": {
    "name": "ipython",
    "version": 3
   },
   "file_extension": ".py",
   "mimetype": "text/x-python",
   "name": "python",
   "nbconvert_exporter": "python",
   "pygments_lexer": "ipython3",
   "version": "3.11.3"
  }
 },
 "nbformat": 4,
 "nbformat_minor": 5
}
