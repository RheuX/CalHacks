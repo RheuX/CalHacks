{
 "cells": [
  {
   "cell_type": "code",
   "execution_count": 5,
   "id": "fee9da0d-5782-486e-bbaf-9f6bb44dc8f9",
   "metadata": {},
   "outputs": [
    {
     "name": "stdout",
     "output_type": "stream",
     "text": [
      "done\n"
     ]
    }
   ],
   "source": [
    "import cv2\n",
    "import numpy as np\n",
    "\n",
    "# Load the image in grayscale\n",
    "image = cv2.imread('lib3.png', cv2.IMREAD_GRAYSCALE)\n",
    "\n",
    "\n",
    "threshold = 240 # Adjust this value as needed\n",
    "\n",
    "# Create a 2D matrix of the same size as the image\n",
    "height, width = image.shape\n",
    "result_matrix = np.zeros((height, width), dtype=np.int32)\n",
    "\n",
    "# Fill the cells based on the threshold\n",
    "for i in range(height):\n",
    "    for j in range(width):\n",
    "        if image[i, j] < threshold:\n",
    "            result_matrix[i, j] = 0\n",
    "        else:\n",
    "            result_matrix[i, j] = -1\n",
    "\n",
    "#draw_matrix(result_matrix)\n",
    "\n",
    "import queue\n",
    "\n",
    "def mark_pixel(x, y, value, pixel_queue):\n",
    "    if x < 0 or y < 0 or x >= height or y >= width:\n",
    "        return\n",
    "    \n",
    "    if result_matrix[x, y] != -1:\n",
    "        return\n",
    "    \n",
    "    result_matrix[x, y] = value\n",
    "    pixel_queue.put([x,y])\n",
    "\n",
    "# Create a FIFO queue\n",
    "pixel_queue = queue.Queue()\n",
    "\n",
    "# enqueue all walls (v==0)\n",
    "\n",
    "for i in range(height):\n",
    "    for j in range(width):\n",
    "        if result_matrix[i, j] == 0:\n",
    "            pixel_queue.put([i, j])\n",
    "            \n",
    "\n",
    "# process each pixel\n",
    "while not pixel_queue.empty():\n",
    "    # print(pixel_queue.qsize(), \" || \", i, \"-\", j)\n",
    "    [i, j] = pixel_queue.get()\n",
    "    current_value = result_matrix[i, j] + 1\n",
    "    \n",
    "    mark_pixel(i-1, j, current_value, pixel_queue)\n",
    "    mark_pixel(i+1, j, current_value, pixel_queue)\n",
    "    mark_pixel(i, j-1, current_value, pixel_queue)\n",
    "    mark_pixel(i, j+1, current_value, pixel_queue)\n",
    "    \n",
    "\n",
    "print(\"done\")"
   ]
  },
  {
   "cell_type": "code",
   "execution_count": null,
   "id": "92c9cde5-f3d5-4706-a40d-c50b009e3af0",
   "metadata": {},
   "outputs": [
    {
     "name": "stdout",
     "output_type": "stream",
     "text": [
      "(1961, 1400)\n"
     ]
    }
   ],
   "source": [
    "def draw_matrix(image):\n",
    "    new_img = np.array(image.copy())\n",
    "    # Convert -1 values to 255 (white) for visualization\n",
    "    new_img[new_img == -1] = 127\n",
    "    \n",
    "    new_img = new_img.astype(np.uint8)\n",
    "\n",
    "    print(new_img.shape)\n",
    "    # Combine the mask with the original image to draw the cells\n",
    "    cv2.imshow(\"Grayscale Image\", new_img)\n",
    "    cv2.waitKey(0)  # This line allows you to close the image window by pressing any key\n",
    "    cv2.destroyAllWindows()\n",
    "    \n",
    "draw_matrix(result_matrix)"
   ]
  },
  {
   "cell_type": "code",
   "execution_count": 6,
   "id": "6baea806-80a8-42fe-b011-9dfc9e8e8ca4",
   "metadata": {},
   "outputs": [],
   "source": [
    "import random\n",
    "import time\n",
    "\n",
    "\n",
    "def random_color():\n",
    "    red = np.int32(random.randint(150, 255))\n",
    "    green = np.int32(random.randint(150, 255))\n",
    "    blue = np.int32(random.randint(150, 255))\n",
    "    return (red, green, blue)\n",
    "\n",
    "def is_vaild_index(index, verify_painted_matrix):\n",
    "    [x, y] = index\n",
    "    num_rows = len(verify_painted_matrix)\n",
    "    num_cols = len(verify_painted_matrix[0])\n",
    "    \n",
    "    if not (0 <= x < num_rows and 0 <= y < num_cols):\n",
    "        return False\n",
    "    \n",
    "    if verify_painted_matrix[x][y] == True:\n",
    "        return False\n",
    "    \n",
    "    # in range, not painted\n",
    "    return True\n",
    "    \n",
    "def is_not_all_painted(verify_painted_matrix):\n",
    "    for row in verify_painted_matrix:\n",
    "        for value in row:\n",
    "            if value == False:\n",
    "                return True\n",
    "            \n",
    "    return False\n",
    "\n",
    "def find_max(distance_matrix, verify_painted_matrix):\n",
    "    max_val = 0\n",
    "    cor = [-1, -1]\n",
    "    \n",
    "    for i in range(len(distance_matrix)):\n",
    "        for j in range(len(distance_matrix[0])):\n",
    "            if verify_painted_matrix[i][j] == False:\n",
    "                # not paint\n",
    "                if distance_matrix[i][j] > max_val:\n",
    "                    max_val = distance_matrix[i][j]\n",
    "                    cor = [i, j]\n",
    "    \n",
    "    return cor\n",
    "\n",
    "def paint_room(cordinate, distance_matrix, verify_painted_matrix, colored_image):\n",
    "    # print(\"paint room of: \",cordinate)\n",
    "    [x, y] = cordinate\n",
    "    \n",
    "    color = (0, 0, 0)\n",
    "    if distance_matrix[x][y] == 2:\n",
    "        color = (255, 255, 255)\n",
    "    else:\n",
    "        color = random_color()\n",
    "        \n",
    "    \n",
    "    room_pixel_queue = queue.Queue()\n",
    "    room_pixel_queue.put(cordinate)\n",
    "    \n",
    "    \n",
    "    colored_image[x][y] = color\n",
    "    verify_painted_matrix[x][y] = True\n",
    "    count = 0\n",
    "    while not room_pixel_queue.empty():\n",
    "        [x, y] = room_pixel_queue.get()\n",
    "        curent_value = distance_matrix[x][y]\n",
    "        count = count + 1\n",
    "        if count % 100000 == 0:\n",
    "            print('.', end=\"\")\n",
    "        \n",
    "        x_n = x -1\n",
    "        y_n = y\n",
    "        if is_vaild_index([x_n, y_n], verify_painted_matrix):\n",
    "            if distance_matrix[x_n][y_n] <= curent_value:\n",
    "                # able to paint\n",
    "                colored_image[x_n][y_n] = color\n",
    "                verify_painted_matrix[x_n][y_n] = True\n",
    "                room_pixel_queue.put([x_n, y_n])\n",
    "                \n",
    "        x_n = x + 1\n",
    "        y_n = y\n",
    "        if is_vaild_index([x_n, y_n], verify_painted_matrix):\n",
    "            if distance_matrix[x_n][y_n] <= curent_value:\n",
    "                # able to paint\n",
    "                colored_image[x_n][y_n] = color\n",
    "                verify_painted_matrix[x_n][y_n] = True\n",
    "                room_pixel_queue.put([x_n, y_n])\n",
    "                \n",
    "        x_n = x\n",
    "        y_n = y - 1\n",
    "        if is_vaild_index([x_n, y_n], verify_painted_matrix):\n",
    "            if distance_matrix[x_n][y_n] <= curent_value:\n",
    "                # able to paint\n",
    "                colored_image[x_n][y_n] = color\n",
    "                verify_painted_matrix[x_n][y_n] = True\n",
    "                room_pixel_queue.put([x_n, y_n])\n",
    "                \n",
    "        x_n = x\n",
    "        y_n = y + 1\n",
    "        if is_vaild_index([x_n, y_n], verify_painted_matrix):\n",
    "            if distance_matrix[x_n][y_n] <= curent_value:\n",
    "                # able to paint\n",
    "                colored_image[x_n][y_n] = color\n",
    "                verify_painted_matrix[x_n][y_n] = True\n",
    "                room_pixel_queue.put([x_n, y_n])\n",
    "        \n",
    "\n",
    "def create_colored_room(distance_matrix, colored_image):\n",
    "    height = len(distance_matrix)\n",
    "    width = len(distance_matrix[0])\n",
    "    \n",
    "    verify_painted_matrix = [[False for _ in range(width)] for _ in range(height)]\n",
    "    \n",
    "    # fill wall with 2\n",
    "    for i in range(height):\n",
    "        for j in range(width):\n",
    "            if result_matrix[i][j] == 0:\n",
    "                result_matrix[i][j] = 2\n",
    "                \n",
    "    while is_not_all_painted(verify_painted_matrix):\n",
    "        # find max\n",
    "        cordinate = find_max(distance_matrix, verify_painted_matrix)\n",
    "        paint_room(cordinate, distance_matrix, verify_painted_matrix, colored_image)\n",
    "        # print(\"one room done\")\n",
    "        \n",
    "    \n",
    "    print(\"all room done\")\n",
    "    return colored_image\n",
    "    \n",
    "    # locate the higest value"
   ]
  },
  {
   "cell_type": "code",
   "execution_count": 4,
   "id": "2b017152-365e-484f-b7e0-8d4e46c56412",
   "metadata": {},
   "outputs": [
    {
     "name": "stdout",
     "output_type": "stream",
     "text": [
      "18\n",
      "19\n"
     ]
    }
   ],
   "source": [
    "print(result_matrix[538][235])\n",
    "print(result_matrix[538][236])"
   ]
  },
  {
   "cell_type": "code",
   "execution_count": 7,
   "id": "66d303e6-f595-46db-863a-aab3cda1d07a",
   "metadata": {},
   "outputs": [
    {
     "name": "stdout",
     "output_type": "stream",
     "text": [
      "...........all room done\n",
      "(1961, 1400, 3)\n",
      "[200 200 235]\n"
     ]
    }
   ],
   "source": [
    "colored_image = np.zeros((height, width, 3), dtype=np.uint8)\n",
    "create_colored_room(result_matrix, colored_image)\n",
    "\n",
    "print(colored_image.shape)\n",
    "print(colored_image[0][0])"
   ]
  },
  {
   "cell_type": "code",
   "execution_count": 8,
   "id": "fdb0a7a9-77e3-4543-9645-a252bb3d91a3",
   "metadata": {},
   "outputs": [],
   "source": [
    "# Combine the mask with the original image to draw the cells\n",
    "cv2.imshow(\"colored room Image\", colored_image)\n",
    "cv2.imwrite(\"lib_image3.png\", colored_image)\n",
    "cv2.waitKey(0)  # This line allows you to close the image window by pressing any key\n",
    "cv2.destroyAllWindows()"
   ]
  },
  {
   "cell_type": "code",
   "execution_count": 6,
   "id": "7474b3b0-e355-49e1-a69e-cbe35bc18363",
   "metadata": {},
   "outputs": [
    {
     "name": "stdout",
     "output_type": "stream",
     "text": [
      "[3, 4]\n",
      "paint room of:  [3, 4]\n",
      "one room done\n",
      "paint room of:  [0, 1]\n",
      "one room done\n",
      "paint room of:  [7, 4]\n",
      "one room done\n",
      "all room done\n"
     ]
    },
    {
     "data": {
      "text/plain": [
       "True"
      ]
     },
     "execution_count": 6,
     "metadata": {},
     "output_type": "execute_result"
    }
   ],
   "source": [
    "distance_matrix = [[1, 0, 0, 0, 0, 0, 0, 0], #0\n",
    "                    [1, 0, 1, 1, 1, 1, 1, 0], #1\n",
    "                    [1, 0, 1, 2, 2, 2, 1, 0], #2\n",
    "                    [1, 0, 1, 2, 3, 2, 1, 0], #3\n",
    "                    [1, 0, 1, 2, 3, 2, 1, 0], #4-4\n",
    "                    [1, 0, 1, 1, 2, 1, 1, 0],\n",
    "                    [1, 0, 0, 0, 1, 0, 0, 0],\n",
    "                    [1, 1, 1, 1, 2, 1, 1, 0]]\n",
    "\n",
    "verify_painted_matrix = [[False for _ in range(8)] for _ in range(8)]\n",
    "verify_painted_matrix[2][3] = True\n",
    "\n",
    "for i in range(8):\n",
    "    for j in range(8):\n",
    "        if distance_matrix[i][j] == 0:\n",
    "            distance_matrix[i][j] = 2\n",
    "\n",
    "\n",
    "print(find_max(distance_matrix, verify_painted_matrix))\n",
    "\n",
    "colored_image = np.zeros((8, 8, 3), dtype=np.uint8)\n",
    "create_colored_room(distance_matrix, colored_image)\n",
    "\n",
    "#cv2.imshow(\"colored room Image\", colored_image)\n",
    "cv2.imwrite(\"rgb_image.png\", colored_image)\n",
    "#cv2.waitKey(0)  # This line allows you to close the image window by pressing any key\n",
    "#cv2.destroyAllWindows()\n"
   ]
  },
  {
   "cell_type": "code",
   "execution_count": 7,
   "id": "acef0d9c-a337-4ec0-be49-6180045db8d0",
   "metadata": {},
   "outputs": [
    {
     "name": "stdout",
     "output_type": "stream",
     "text": [
      "(186, 239, 159)\n",
      "(163, 215, 167)\n",
      "(166, 152, 191)\n",
      "(227, 244, 201)\n"
     ]
    }
   ],
   "source": [
    "import random\n",
    "import time\n",
    "\n",
    "def random_color():\n",
    "    current_time = int(time.time())\n",
    "    \n",
    "    red = np.int32(random.randint(150, 255))\n",
    "    green = np.int32(random.randint(150, 255))\n",
    "    blue = np.int32(random.randint(150, 255))\n",
    "    return (red, green, blue)\n",
    "\n",
    "\n",
    "print(random_color())\n",
    "print(random_color())\n",
    "print(random_color())\n",
    "print(random_color())"
   ]
  },
  {
   "cell_type": "code",
   "execution_count": null,
   "id": "36de5359-fccd-4eef-8bfd-7871fafea30f",
   "metadata": {},
   "outputs": [],
   "source": []
  }
 ],
 "metadata": {
  "kernelspec": {
   "display_name": "Python 3 (ipykernel)",
   "language": "python",
   "name": "python3"
  },
  "language_info": {
   "codemirror_mode": {
    "name": "ipython",
    "version": 3
   },
   "file_extension": ".py",
   "mimetype": "text/x-python",
   "name": "python",
   "nbconvert_exporter": "python",
   "pygments_lexer": "ipython3",
   "version": "3.11.3"
  }
 },
 "nbformat": 4,
 "nbformat_minor": 5
}
