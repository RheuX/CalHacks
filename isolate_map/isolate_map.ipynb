{
 "cells": [
  {
   "cell_type": "code",
   "execution_count": 4,
   "id": "ba368fd9-ca11-4692-9604-2f7b2d0a04e0",
   "metadata": {},
   "outputs": [],
   "source": [
    "from PIL import Image, ImageOps\n",
    "\n",
    "def isolate_map(image_src, image_out, target_color, tolerance=20):\n",
    "    # Open the PNG image\n",
    "    input_image = Image.open(image_src)\n",
    "\n",
    "    # Create a mask to isolate the target color with tolerance\n",
    "    def create_color_mask(image, target_color, tolerance):\n",
    "        image = image.convert(\"RGBA\")\n",
    "        data = image.getdata()\n",
    "\n",
    "        new_data = []\n",
    "        for item in data:\n",
    "            r, g, b, a = item[:4]\n",
    "            tr, tg, tb = target_color\n",
    "\n",
    "            # Check if the color is within the tolerance range\n",
    "            if (\n",
    "                abs(r - tr) <= tolerance\n",
    "                and abs(g - tg) <= tolerance\n",
    "                and abs(b - tb) <= tolerance\n",
    "            ):\n",
    "                new_data.append(item)\n",
    "            else:\n",
    "                new_data.append((0, 0, 0, 0))  # Make other colors transparent\n",
    "\n",
    "        image.putdata(new_data)\n",
    "        return image\n",
    "\n",
    "    # Create the color mask with tolerance\n",
    "    color_mask = create_color_mask(input_image, target_color, tolerance)\n",
    "\n",
    "    # Save the isolated color as a new image\n",
    "    color_mask.save(image_out)\n",
    "\n",
    "    # Close the original image and the color mask\n",
    "    input_image.close()\n",
    "    color_mask.close()"
   ]
  },
  {
   "cell_type": "code",
   "execution_count": 7,
   "id": "1778de4d-fddc-4371-82bf-fa63b051a0a1",
   "metadata": {},
   "outputs": [],
   "source": [
    "isolate_map('simple_floor_1.png', 'iso_floor_1.png', (0, 0, 255))\n",
    "isolate_map('simple_floor_plan.png', 'iso_floor_2.png', (69, 99, 137))"
   ]
  }
 ],
 "metadata": {
  "kernelspec": {
   "display_name": "Python 3 (ipykernel)",
   "language": "python",
   "name": "python3"
  },
  "language_info": {
   "codemirror_mode": {
    "name": "ipython",
    "version": 3
   },
   "file_extension": ".py",
   "mimetype": "text/x-python",
   "name": "python",
   "nbconvert_exporter": "python",
   "pygments_lexer": "ipython3",
   "version": "3.10.9"
  }
 },
 "nbformat": 4,
 "nbformat_minor": 5
}
